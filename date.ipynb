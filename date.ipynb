{
 "cells": [
  {
   "cell_type": "code",
   "execution_count": null,
   "metadata": {},
   "outputs": [
    {
     "name": "stdout",
     "output_type": "stream",
     "text": [
      "2025-02-15\n"
     ]
    }
   ],
   "source": [
    "#ex1\n",
    "from datetime import timedelta,datetime,time\n",
    "a=datetime.today()\n",
    "b=a-timedelta(days=5)\n",
    "print (datetime.date(b))"
   ]
  },
  {
   "cell_type": "code",
   "execution_count": null,
   "metadata": {},
   "outputs": [
    {
     "name": "stdout",
     "output_type": "stream",
     "text": [
      "\n",
      "    yesterday 2025-02-19\n",
      "    today 2025-02-20\n",
      "    tomorrow 2025-02-21  \n"
     ]
    }
   ],
   "source": [
    "#ex 2\n",
    "a=datetime.today()-timedelta(days=1)\n",
    "b=datetime.today()\n",
    "c=datetime.today()+timedelta(days=1)\n",
    "print(f\"\"\"\n",
    "    yesterday {datetime.date(a)}\n",
    "    today {datetime.date(b)}\n",
    "    tomorrow {datetime.date(c)}  \"\"\")"
   ]
  },
  {
   "cell_type": "code",
   "execution_count": null,
   "metadata": {},
   "outputs": [
    {
     "name": "stdout",
     "output_type": "stream",
     "text": [
      "735169\n"
     ]
    }
   ],
   "source": [
    "#ex 3\n",
    "a=datetime.now()\n",
    "print(a.microsecond)"
   ]
  },
  {
   "cell_type": "code",
   "execution_count": 77,
   "metadata": {},
   "outputs": [
    {
     "name": "stdout",
     "output_type": "stream",
     "text": [
      "86400.0\n"
     ]
    }
   ],
   "source": [
    "import datetime\n",
    "n = datetime.datetime.now()\n",
    "a = n\n",
    "d1 = a + datetime.timedelta(days=1)\n",
    "delta = (d1 - n).total_seconds()\n",
    "print(delta)"
   ]
  }
 ],
 "metadata": {
  "kernelspec": {
   "display_name": "Python 3",
   "language": "python",
   "name": "python3"
  },
  "language_info": {
   "codemirror_mode": {
    "name": "ipython",
    "version": 3
   },
   "file_extension": ".py",
   "mimetype": "text/x-python",
   "name": "python",
   "nbconvert_exporter": "python",
   "pygments_lexer": "ipython3",
   "version": "3.12.8"
  }
 },
 "nbformat": 4,
 "nbformat_minor": 2
}
