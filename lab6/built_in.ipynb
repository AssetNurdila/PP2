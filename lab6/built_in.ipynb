{
 "cells": [
  {
   "cell_type": "code",
   "execution_count": 1,
   "metadata": {},
   "outputs": [
    {
     "name": "stdout",
     "output_type": "stream",
     "text": [
      "There is 0 uppercase letters and 0 lowercase letters!\n"
     ]
    }
   ],
   "source": [
    "def count_case(s):\n",
    "\n",
    "    ucount = 0\n",
    "    lcount = 0\n",
    "\n",
    "    for char in s:\n",
    "        if char.isupper():\n",
    "            ucount += 1\n",
    "\n",
    "        elif char.islower():\n",
    "            lcount += 1\n",
    "    \n",
    "    return ucount, lcount\n",
    "\n",
    "word = input()\n",
    "\n",
    "ucount, lcount = count_case(word)\n",
    "print(f\"There is {ucount} uppercase letters and {lcount} lowercase letters!\")"
   ]
  },
  {
   "cell_type": "code",
   "execution_count": 2,
   "metadata": {},
   "outputs": [
    {
     "name": "stdout",
     "output_type": "stream",
     "text": [
      "The 121212 is not palindrome\n"
     ]
    }
   ],
   "source": [
    "def is_palindrome(s):\n",
    "    if s == s[::-1]:\n",
    "        return True\n",
    "    else:\n",
    "        return False\n",
    "    \n",
    "word = input()\n",
    "\n",
    "if is_palindrome(word):\n",
    "    print(f\"The {word} is palindrome\")\n",
    "else:\n",
    "    print(f\"The {word} is not palindrome\")"
   ]
  },
  {
   "cell_type": "code",
   "execution_count": 3,
   "metadata": {},
   "outputs": [
    {
     "name": "stdout",
     "output_type": "stream",
     "text": [
      "Square root of 21212 after 1212 miliseconds is <function <lambda> at 0x10798e0c0>\n"
     ]
    }
   ],
   "source": [
    "import time\n",
    "import math\n",
    "\n",
    "n = int(input())\n",
    "milisec = int(input())\n",
    "\n",
    "time.sleep(milisec/1000)\n",
    "sqrtr = lambda x: math.sqrt(n)\n",
    "\n",
    "print(f\"Square root of {n} after {milisec} miliseconds is {sqrtr}\")"
   ]
  },
  {
   "cell_type": "code",
   "execution_count": 8,
   "metadata": {},
   "outputs": [],
   "source": [
    "from functools import reduce\n",
    "\n",
    "numbs = list(map(int, input().split()))\n",
    "\n",
    "result = reduce(lambda x, y:x*y, numbs)\n",
    "\n",
    "print = (\"The result: \", result)\n"
   ]
  },
  {
   "cell_type": "code",
   "execution_count": null,
   "metadata": {},
   "outputs": [],
   "source": [
    "tlist = tuple(map(int, input().split()))\n",
    "\n",
    "s = all(tlist)\n",
    "\n",
    "print(s)"
   ]
  }
 ],
 "metadata": {
  "kernelspec": {
   "display_name": "Python 3",
   "language": "python",
   "name": "python3"
  },
  "language_info": {
   "codemirror_mode": {
    "name": "ipython",
    "version": 3
   },
   "file_extension": ".py",
   "mimetype": "text/x-python",
   "name": "python",
   "nbconvert_exporter": "python",
   "pygments_lexer": "ipython3",
   "version": "3.12.8"
  }
 },
 "nbformat": 4,
 "nbformat_minor": 2
}
