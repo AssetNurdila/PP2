{
 "cells": [
  {
   "cell_type": "code",
   "execution_count": 10,
   "metadata": {},
   "outputs": [
    {
     "name": "stdout",
     "output_type": "stream",
     "text": [
      "/Users/kmtel/Desktop/GIT/labs/lab6/built_in.ipynb\n"
     ]
    }
   ],
   "source": [
    "import os\n",
    "\n",
    "file_path = os.path.join(os.path.expanduser(\"~\"), \"Desktop\", \"GIT\", \"labs\", \"lab6\", \"built_in.ipynb\")\n",
    "print(file_path)"
   ]
  },
  {
   "cell_type": "code",
   "execution_count": 8,
   "metadata": {},
   "outputs": [
    {
     "name": "stdout",
     "output_type": "stream",
     "text": [
      "Ошибка: путь /Users/kmtel/Desktop/GIT/labs/lab6/built_in не найден!\n"
     ]
    }
   ],
   "source": [
    "def list_items(path):\n",
    "    if not os.path.exists(path):\n",
    "        print(f\"Ошибка: путь {path} не найден!\")\n",
    "        return\n",
    "\n",
    "    all_items = os.listdir(path)\n",
    "    full_paths = [os.path.join(path, item) for item in all_items]\n",
    "\n",
    "    directories = [item for item in full_paths if os.path.isdir(item)]\n",
    "    files = [item for item in full_paths if os.path.isfile(item)]\n",
    "\n",
    "    print(\"Directories:\")\n",
    "    for directory in directories:\n",
    "        print(directory)\n",
    "\n",
    "    print(\"Files:\")\n",
    "    for file in files:\n",
    "        print(file)\n",
    "\n",
    "path = os.path.join(os.path.expanduser(\"~\"), \"Desktop\", \"GIT\", \"labs\", \"lab6\", \"built_in\")\n",
    "list_items(path)"
   ]
  },
  {
   "cell_type": "code",
   "execution_count": null,
   "metadata": {},
   "outputs": [
    {
     "ename": "FileNotFoundError",
     "evalue": "[Errno 2] No such file or directory: 'C:/Users/kmtel'",
     "output_type": "error",
     "traceback": [
      "\u001b[0;31m---------------------------------------------------------------------------\u001b[0m",
      "\u001b[0;31mFileNotFoundError\u001b[0m                         Traceback (most recent call last)",
      "Cell \u001b[0;32mIn[3], line 21\u001b[0m\n\u001b[1;32m     18\u001b[0m     \u001b[38;5;28;01mfor\u001b[39;00m file \u001b[38;5;129;01min\u001b[39;00m files:\n\u001b[1;32m     19\u001b[0m         \u001b[38;5;28mprint\u001b[39m(file)\n\u001b[0;32m---> 21\u001b[0m \u001b[43mlist_items\u001b[49m\u001b[43m(\u001b[49m\u001b[38;5;124;43mr\u001b[39;49m\u001b[38;5;124;43m\"\u001b[39;49m\u001b[38;5;124;43mC:/Users/kmtel\u001b[39;49m\u001b[38;5;124;43m\"\u001b[39;49m\u001b[43m)\u001b[49m\n",
      "Cell \u001b[0;32mIn[3], line 6\u001b[0m, in \u001b[0;36mlist_items\u001b[0;34m(path)\u001b[0m\n\u001b[1;32m      4\u001b[0m \u001b[38;5;28;01mdef\u001b[39;00m\u001b[38;5;250m \u001b[39m\u001b[38;5;21mlist_items\u001b[39m(path):\n\u001b[0;32m----> 6\u001b[0m     all_items \u001b[38;5;241m=\u001b[39m \u001b[43mos\u001b[49m\u001b[38;5;241;43m.\u001b[39;49m\u001b[43mlistdir\u001b[49m\u001b[43m(\u001b[49m\u001b[43mpath\u001b[49m\u001b[43m)\u001b[49m\n\u001b[1;32m      7\u001b[0m     full_paths \u001b[38;5;241m=\u001b[39m [os\u001b[38;5;241m.\u001b[39mpath\u001b[38;5;241m.\u001b[39mjoin(path, item) \u001b[38;5;28;01mfor\u001b[39;00m item \u001b[38;5;129;01min\u001b[39;00m all_items]\n\u001b[1;32m      9\u001b[0m     directories \u001b[38;5;241m=\u001b[39m [item \u001b[38;5;28;01mfor\u001b[39;00m item \u001b[38;5;129;01min\u001b[39;00m full_paths \u001b[38;5;28;01mif\u001b[39;00m os\u001b[38;5;241m.\u001b[39mpath\u001b[38;5;241m.\u001b[39misdir(item)]\n",
      "\u001b[0;31mFileNotFoundError\u001b[0m: [Errno 2] No such file or directory: 'C:/Users/kmtel'"
     ]
    }
   ],
   "source": [
    "#ex1\n",
    "import os\n",
    "\n",
    "def list_items(path):\n",
    "\n",
    "    all_items = os.listdir(path)\n",
    "    full_paths = [os.path.join(path, item) for item in all_items]\n",
    "\n",
    "    directories = [item for item in full_paths if os.path.isdir(item)]\n",
    "    files = [item for item in full_paths if os.path.isfile(item)]\n",
    "\n",
    "    print(\"Directories:\")\n",
    "    for directory in directories:\n",
    "        print(directory)\n",
    "\n",
    "\n",
    "    print(\"Files:\")\n",
    "    for file in files:\n",
    "        print(file)\n",
    "\n",
    "list_items(r\"/Users/kmtel/Desktop/GIT/labs/lab6/built_in.ipynb\")\n"
   ]
  },
  {
   "cell_type": "code",
   "execution_count": null,
   "metadata": {},
   "outputs": [],
   "source": [
    "#ex2\n",
    "import os\n",
    "\n",
    "def checkPathAccess(path):\n",
    "    if os.path.exists(path):\n",
    "        print(\"Exists:    \",\"|\", os.path.exists(path))\n",
    "        print(\"Readable:  \",'|', os.access(path, os.R_OK))\n",
    "        print(\"Writable:  \",'|', os.access(path, os.W_OK))\n",
    "        print(\"Executable:\",'|', os.access(path, os.X_OK))\n",
    "    else:\n",
    "        print(\"Path is not exist.\")\n",
    "\n",
    "checkPathAccess(r\"C:\\Users\\bajge\\OneDrive\\PP2\\lab6\\built-in\")\n",
    "        "
   ]
  },
  {
   "cell_type": "code",
   "execution_count": null,
   "metadata": {},
   "outputs": [],
   "source": [
    "#ex3\n",
    "import os\n",
    "def checkPathDetails(path):\n",
    "    if os.path.exists(path):\n",
    "        print(f\"Dir name:  {os.path.dirname(path)}\")\n",
    "        print(f\"File name: {os.path.basename(path)}\")\n",
    "        \n",
    "    else:\n",
    "        print(\"Path is not exist.\")\n",
    "checkPathDetails(r\"C:\\Users\\bajge\\OneDrive\\PP2\\lab6\\built-in\")"
   ]
  },
  {
   "cell_type": "code",
   "execution_count": null,
   "metadata": {},
   "outputs": [],
   "source": [
    "#ex4\n",
    "def count_lines_in_file(file_path):\n",
    "    answer = 0\n",
    "    with open(file_path, 'r', encoding='utf-8') as file:\n",
    "        for line in file:\n",
    "            answer += 1\n",
    "        return answer\n",
    "    \n",
    "print(count_lines_in_file(\"C:\\Users\\bajge\\OneDrive\\PP2\\lab6\\directories\\m.txt\"))     "
   ]
  },
  {
   "cell_type": "code",
   "execution_count": null,
   "metadata": {},
   "outputs": [],
   "source": [
    "#ex5\n",
    "def listToFile(path, data_list):\n",
    "    with open(path, 'w', encoding='utf-8') as file:\n",
    "        for item in data_list:\n",
    "            file.write(item + '\\n')\n",
    "        \n",
    "lst = [\"example\", \"storage\"]\n",
    "listToFile(r\"C:\\Users\\bajge\\OneDrive\\PP2\\lab6\\directories.txt\", lst)"
   ]
  },
  {
   "cell_type": "code",
   "execution_count": null,
   "metadata": {},
   "outputs": [],
   "source": [
    "#ex6\n",
    "import string\n",
    "\n",
    "for name in string.ascii_uppercase:\n",
    "    fileName = f\"{name}.txt\"\n",
    "    with open(fileName, 'w') as file:\n",
    "        file.write(f\"name\")"
   ]
  },
  {
   "cell_type": "code",
   "execution_count": null,
   "metadata": {},
   "outputs": [],
   "source": [
    "#ex7\n",
    "def copy_file(source, copy):\n",
    "    with open(source, \"r\") as src:\n",
    "        content = src.read()\n",
    "    with open(copy, \"w\") as cp:\n",
    "        cp.write(content)\n",
    "\n",
    "\n",
    "copy_file(\"A.txt\", \"B.txt\")"
   ]
  },
  {
   "cell_type": "code",
   "execution_count": null,
   "metadata": {},
   "outputs": [],
   "source": [
    "#ex8\n",
    "import os\n",
    "\n",
    "def delete(path):\n",
    "    if os.path.exists(path):\n",
    "        if os.access(path, os.W_OK):\n",
    "            os.remove(path)\n",
    "            print(f\"File '{path}' deleted.\")\n",
    "        else:\n",
    "            print(f\"Cannot delete '{path}'.\")\n",
    "    else:\n",
    "        print(f\"File '{path}'is not exist.\")"
   ]
  }
 ],
 "metadata": {
  "kernelspec": {
   "display_name": "Python 3",
   "language": "python",
   "name": "python3"
  },
  "language_info": {
   "codemirror_mode": {
    "name": "ipython",
    "version": 3
   },
   "file_extension": ".py",
   "mimetype": "text/x-python",
   "name": "python",
   "nbconvert_exporter": "python",
   "pygments_lexer": "ipython3",
   "version": "3.12.8"
  }
 },
 "nbformat": 4,
 "nbformat_minor": 2
}
